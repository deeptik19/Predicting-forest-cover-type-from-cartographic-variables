{
  "nbformat": 4,
  "nbformat_minor": 0,
  "metadata": {
    "colab": {
      "name": "Covertype Dataset.ipynb",
      "version": "0.3.2",
      "provenance": [],
      "collapsed_sections": []
    },
    "kernelspec": {
      "name": "python3",
      "display_name": "Python 3"
    },
    "accelerator": "TPU"
  },
  "cells": [
    {
      "cell_type": "markdown",
      "metadata": {
        "id": "o_porJeD4iwU",
        "colab_type": "text"
      },
      "source": [
        
        "\n",
        "## Question 2 Objectives\n",
        "\n",
        "-  Build a DNN model for Covertype Dataset to check covertype output - Multiclassification problem\n",
        "-  Understand basic DNN model building process using Keras\n",
        "-  Analyze model performance and capacity vs generalization tradeoff\n",
        "-  Modify models to reduce overfitting and improve performance\n",
        "-  Analyze results and explore improvements to model"
      ]
    },
    {
      "cell_type": "markdown",
      "metadata": {
        "id": "DCqbCFZD4q_g",
        "colab_type": "text"
      },
      "source": [
        "## Step 1: Import Libraries"
      ]
    },
    {
      "cell_type": "code",
      "metadata": {
        "id": "23Re0W0cnYlW",
        "colab_type": "code",
        "outputId": "fc038350-67b2-4930-bb22-767584d27d6b",
        "colab": {
          "base_uri": "https://localhost:8080/",
          "height": 34
        }
      },
      "source": [
        "#Importing all necessory librariies\n",
        "\n",
        "from numpy.random import seed\n",
        "seed(2)\n",
        "from tensorflow import set_random_seed\n",
        "set_random_seed(2)\n",
        "import tensorflow as tf\n",
        "from tensorflow import keras\n",
        "from IPython import display\n",
        "from matplotlib import cm\n",
        "from matplotlib import gridspec\n",
        "from matplotlib import pyplot as plt\n",
        "import numpy as np\n",
        "import pandas as pd\n",
        "from tensorflow.python.data import Dataset\n",
        "from sklearn import preprocessing\n",
        "from sklearn.preprocessing import StandardScaler\n",
        "print(tf.__version__)"
      ],
      "execution_count": 0,
      "outputs": [
        {
          "output_type": "stream",
          "text": [
            "1.14.0\n"
          ],
          "name": "stdout"
        }
      ]
    },
    {
      "cell_type": "markdown",
      "metadata": {
        "id": "r2g4iQO3FvJH",
        "colab_type": "text"
      },
      "source": [
        "##Step 2 : Import Data"
      ]
    },
    {
      "cell_type": "code",
      "metadata": {
        "id": "xOvFg1ARnbR7",
        "colab_type": "code",
        "outputId": "64a3eeb2-b523-404d-d126-f096190f293d",
        "colab": {
          "base_uri": "https://localhost:8080/",
          "height": 215
        }
      },
      "source": [
        "#import data from source\n",
        "\n",
        "tf.logging.set_verbosity(tf.logging.ERROR)\n",
        "pd.options.display.max_rows = 10\n",
        "pd.options.display.float_format = '{:.1f}'.format\n",
        "\n",
        "concrete_dataframe = pd.read_csv(\"https://archive.ics.uci.edu/ml/machine-learning-databases/covtype/covtype.data.gz\", \n",
        "                                 sep=\",\",header=None, names = ['Elevation', 'Aspect','Slope','Horizontal_Distance_To_HydrologyHorizontal','Vertical_Distance_To_HydrologyVertical',\n",
        "                                                               'Horizontal_Distance_To_RoadwaysHorizontal','Hillshade_9amHill','Hillshade_NoonHill','Hillshade_3pmHill',\n",
        "                                                               'Horizontal_Distance_To_Fire_PointsHorizontal','Wilderness_Area1','Wilderness_Area2','Wilderness_Area3',\n",
        "                                                               'Wilderness_Area4','Soil_Type1','Soil_Type2','Soil_Type3','Soil_Type4','Soil_Type5','Soil_Type6',\n",
        "                                                               'Soil_Type7','Soil_Type8','Soil_Type9','Soil_Type10','Soil_Type11','Soil_Type12','Soil_Type13',\n",
        "                                                               'Soil_Type14','Soil_Type15','Soil_Type16','Soil_Type17','Soil_Type18','Soil_Type19','Soil_Type20',\n",
        "                                                               'Soil_Type21','Soil_Type22','Soil_Type23','Soil_Type24','Soil_Type25','Soil_Type26','Soil_Type27',\n",
        "                                                               'Soil_Type28','Soil_Type29','Soil_Type30','Soil_Type31','Soil_Type32','Soil_Type33','Soil_Type34',\n",
        "                                                               'Soil_Type35','Soil_Type36','Soil_Type37','Soil_Type38','Soil_Type39','Soil_Type40','Cover_Type'])\n",
        "\n",
        "concrete_dataframe.head()"
      ],
      "execution_count": 0,
      "outputs": [
        {
          "output_type": "execute_result",
          "data": {
            "text/html": [
              "<div>\n",
              "<style scoped>\n",
              "    .dataframe tbody tr th:only-of-type {\n",
              "        vertical-align: middle;\n",
              "    }\n",
              "\n",
              "    .dataframe tbody tr th {\n",
              "        vertical-align: top;\n",
              "    }\n",
              "\n",
              "    .dataframe thead th {\n",
              "        text-align: right;\n",
              "    }\n",
              "</style>\n",
              "<table border=\"1\" class=\"dataframe\">\n",
              "  <thead>\n",
              "    <tr style=\"text-align: right;\">\n",
              "      <th></th>\n",
              "      <th>Elevation</th>\n",
              "      <th>Aspect</th>\n",
              "      <th>Slope</th>\n",
              "      <th>Horizontal_Distance_To_HydrologyHorizontal</th>\n",
              "      <th>Vertical_Distance_To_HydrologyVertical</th>\n",
              "      <th>Horizontal_Distance_To_RoadwaysHorizontal</th>\n",
              "      <th>Hillshade_9amHill</th>\n",
              "      <th>Hillshade_NoonHill</th>\n",
              "      <th>Hillshade_3pmHill</th>\n",
              "      <th>Horizontal_Distance_To_Fire_PointsHorizontal</th>\n",
              "      <th>Wilderness_Area1</th>\n",
              "      <th>Wilderness_Area2</th>\n",
              "      <th>Wilderness_Area3</th>\n",
              "      <th>Wilderness_Area4</th>\n",
              "      <th>Soil_Type1</th>\n",
              "      <th>Soil_Type2</th>\n",
              "      <th>Soil_Type3</th>\n",
              "      <th>Soil_Type4</th>\n",
              "      <th>Soil_Type5</th>\n",
              "      <th>Soil_Type6</th>\n",
              "      <th>Soil_Type7</th>\n",
              "      <th>Soil_Type8</th>\n",
              "      <th>Soil_Type9</th>\n",
              "      <th>Soil_Type10</th>\n",
              "      <th>Soil_Type11</th>\n",
              "      <th>Soil_Type12</th>\n",
              "      <th>Soil_Type13</th>\n",
              "      <th>Soil_Type14</th>\n",
              "      <th>Soil_Type15</th>\n",
              "      <th>Soil_Type16</th>\n",
              "      <th>Soil_Type17</th>\n",
              "      <th>Soil_Type18</th>\n",
              "      <th>Soil_Type19</th>\n",
              "      <th>Soil_Type20</th>\n",
              "      <th>Soil_Type21</th>\n",
              "      <th>Soil_Type22</th>\n",
              "      <th>Soil_Type23</th>\n",
              "      <th>Soil_Type24</th>\n",
              "      <th>Soil_Type25</th>\n",
              "      <th>Soil_Type26</th>\n",
              "      <th>Soil_Type27</th>\n",
              "      <th>Soil_Type28</th>\n",
              "      <th>Soil_Type29</th>\n",
              "      <th>Soil_Type30</th>\n",
              "      <th>Soil_Type31</th>\n",
              "      <th>Soil_Type32</th>\n",
              "      <th>Soil_Type33</th>\n",
              "      <th>Soil_Type34</th>\n",
              "      <th>Soil_Type35</th>\n",
              "      <th>Soil_Type36</th>\n",
              "      <th>Soil_Type37</th>\n",
              "      <th>Soil_Type38</th>\n",
              "      <th>Soil_Type39</th>\n",
              "      <th>Soil_Type40</th>\n",
              "      <th>Cover_Type</th>\n",
              "    </tr>\n",
              "  </thead>\n",
              "  <tbody>\n",
              "    <tr>\n",
              "      <th>0</th>\n",
              "      <td>2596</td>\n",
              "      <td>51</td>\n",
              "      <td>3</td>\n",
              "      <td>258</td>\n",
              "      <td>0</td>\n",
              "      <td>510</td>\n",
              "      <td>221</td>\n",
              "      <td>232</td>\n",
              "      <td>148</td>\n",
              "      <td>6279</td>\n",
              "      <td>1</td>\n",
              "      <td>0</td>\n",
              "      <td>0</td>\n",
              "      <td>0</td>\n",
              "      <td>0</td>\n",
              "      <td>0</td>\n",
              "      <td>0</td>\n",
              "      <td>0</td>\n",
              "      <td>0</td>\n",
              "      <td>0</td>\n",
              "      <td>0</td>\n",
              "      <td>0</td>\n",
              "      <td>0</td>\n",
              "      <td>0</td>\n",
              "      <td>0</td>\n",
              "      <td>0</td>\n",
              "      <td>0</td>\n",
              "      <td>0</td>\n",
              "      <td>0</td>\n",
              "      <td>0</td>\n",
              "      <td>0</td>\n",
              "      <td>0</td>\n",
              "      <td>0</td>\n",
              "      <td>0</td>\n",
              "      <td>0</td>\n",
              "      <td>0</td>\n",
              "      <td>0</td>\n",
              "      <td>0</td>\n",
              "      <td>0</td>\n",
              "      <td>0</td>\n",
              "      <td>0</td>\n",
              "      <td>0</td>\n",
              "      <td>1</td>\n",
              "      <td>0</td>\n",
              "      <td>0</td>\n",
              "      <td>0</td>\n",
              "      <td>0</td>\n",
              "      <td>0</td>\n",
              "      <td>0</td>\n",
              "      <td>0</td>\n",
              "      <td>0</td>\n",
              "      <td>0</td>\n",
              "      <td>0</td>\n",
              "      <td>0</td>\n",
              "      <td>5</td>\n",
              "    </tr>\n",
              "    <tr>\n",
              "      <th>1</th>\n",
              "      <td>2590</td>\n",
              "      <td>56</td>\n",
              "      <td>2</td>\n",
              "      <td>212</td>\n",
              "      <td>-6</td>\n",
              "      <td>390</td>\n",
              "      <td>220</td>\n",
              "      <td>235</td>\n",
              "      <td>151</td>\n",
              "      <td>6225</td>\n",
              "      <td>1</td>\n",
              "      <td>0</td>\n",
              "      <td>0</td>\n",
              "      <td>0</td>\n",
              "      <td>0</td>\n",
              "      <td>0</td>\n",
              "      <td>0</td>\n",
              "      <td>0</td>\n",
              "      <td>0</td>\n",
              "      <td>0</td>\n",
              "      <td>0</td>\n",
              "      <td>0</td>\n",
              "      <td>0</td>\n",
              "      <td>0</td>\n",
              "      <td>0</td>\n",
              "      <td>0</td>\n",
              "      <td>0</td>\n",
              "      <td>0</td>\n",
              "      <td>0</td>\n",
              "      <td>0</td>\n",
              "      <td>0</td>\n",
              "      <td>0</td>\n",
              "      <td>0</td>\n",
              "      <td>0</td>\n",
              "      <td>0</td>\n",
              "      <td>0</td>\n",
              "      <td>0</td>\n",
              "      <td>0</td>\n",
              "      <td>0</td>\n",
              "      <td>0</td>\n",
              "      <td>0</td>\n",
              "      <td>0</td>\n",
              "      <td>1</td>\n",
              "      <td>0</td>\n",
              "      <td>0</td>\n",
              "      <td>0</td>\n",
              "      <td>0</td>\n",
              "      <td>0</td>\n",
              "      <td>0</td>\n",
              "      <td>0</td>\n",
              "      <td>0</td>\n",
              "      <td>0</td>\n",
              "      <td>0</td>\n",
              "      <td>0</td>\n",
              "      <td>5</td>\n",
              "    </tr>\n",
              "    <tr>\n",
              "      <th>2</th>\n",
              "      <td>2804</td>\n",
              "      <td>139</td>\n",
              "      <td>9</td>\n",
              "      <td>268</td>\n",
              "      <td>65</td>\n",
              "      <td>3180</td>\n",
              "      <td>234</td>\n",
              "      <td>238</td>\n",
              "      <td>135</td>\n",
              "      <td>6121</td>\n",
              "      <td>1</td>\n",
              "      <td>0</td>\n",
              "      <td>0</td>\n",
              "      <td>0</td>\n",
              "      <td>0</td>\n",
              "      <td>0</td>\n",
              "      <td>0</td>\n",
              "      <td>0</td>\n",
              "      <td>0</td>\n",
              "      <td>0</td>\n",
              "      <td>0</td>\n",
              "      <td>0</td>\n",
              "      <td>0</td>\n",
              "      <td>0</td>\n",
              "      <td>0</td>\n",
              "      <td>1</td>\n",
              "      <td>0</td>\n",
              "      <td>0</td>\n",
              "      <td>0</td>\n",
              "      <td>0</td>\n",
              "      <td>0</td>\n",
              "      <td>0</td>\n",
              "      <td>0</td>\n",
              "      <td>0</td>\n",
              "      <td>0</td>\n",
              "      <td>0</td>\n",
              "      <td>0</td>\n",
              "      <td>0</td>\n",
              "      <td>0</td>\n",
              "      <td>0</td>\n",
              "      <td>0</td>\n",
              "      <td>0</td>\n",
              "      <td>0</td>\n",
              "      <td>0</td>\n",
              "      <td>0</td>\n",
              "      <td>0</td>\n",
              "      <td>0</td>\n",
              "      <td>0</td>\n",
              "      <td>0</td>\n",
              "      <td>0</td>\n",
              "      <td>0</td>\n",
              "      <td>0</td>\n",
              "      <td>0</td>\n",
              "      <td>0</td>\n",
              "      <td>2</td>\n",
              "    </tr>\n",
              "    <tr>\n",
              "      <th>3</th>\n",
              "      <td>2785</td>\n",
              "      <td>155</td>\n",
              "      <td>18</td>\n",
              "      <td>242</td>\n",
              "      <td>118</td>\n",
              "      <td>3090</td>\n",
              "      <td>238</td>\n",
              "      <td>238</td>\n",
              "      <td>122</td>\n",
              "      <td>6211</td>\n",
              "      <td>1</td>\n",
              "      <td>0</td>\n",
              "      <td>0</td>\n",
              "      <td>0</td>\n",
              "      <td>0</td>\n",
              "      <td>0</td>\n",
              "      <td>0</td>\n",
              "      <td>0</td>\n",
              "      <td>0</td>\n",
              "      <td>0</td>\n",
              "      <td>0</td>\n",
              "      <td>0</td>\n",
              "      <td>0</td>\n",
              "      <td>0</td>\n",
              "      <td>0</td>\n",
              "      <td>0</td>\n",
              "      <td>0</td>\n",
              "      <td>0</td>\n",
              "      <td>0</td>\n",
              "      <td>0</td>\n",
              "      <td>0</td>\n",
              "      <td>0</td>\n",
              "      <td>0</td>\n",
              "      <td>0</td>\n",
              "      <td>0</td>\n",
              "      <td>0</td>\n",
              "      <td>0</td>\n",
              "      <td>0</td>\n",
              "      <td>0</td>\n",
              "      <td>0</td>\n",
              "      <td>0</td>\n",
              "      <td>0</td>\n",
              "      <td>0</td>\n",
              "      <td>1</td>\n",
              "      <td>0</td>\n",
              "      <td>0</td>\n",
              "      <td>0</td>\n",
              "      <td>0</td>\n",
              "      <td>0</td>\n",
              "      <td>0</td>\n",
              "      <td>0</td>\n",
              "      <td>0</td>\n",
              "      <td>0</td>\n",
              "      <td>0</td>\n",
              "      <td>2</td>\n",
              "    </tr>\n",
              "    <tr>\n",
              "      <th>4</th>\n",
              "      <td>2595</td>\n",
              "      <td>45</td>\n",
              "      <td>2</td>\n",
              "      <td>153</td>\n",
              "      <td>-1</td>\n",
              "      <td>391</td>\n",
              "      <td>220</td>\n",
              "      <td>234</td>\n",
              "      <td>150</td>\n",
              "      <td>6172</td>\n",
              "      <td>1</td>\n",
              "      <td>0</td>\n",
              "      <td>0</td>\n",
              "      <td>0</td>\n",
              "      <td>0</td>\n",
              "      <td>0</td>\n",
              "      <td>0</td>\n",
              "      <td>0</td>\n",
              "      <td>0</td>\n",
              "      <td>0</td>\n",
              "      <td>0</td>\n",
              "      <td>0</td>\n",
              "      <td>0</td>\n",
              "      <td>0</td>\n",
              "      <td>0</td>\n",
              "      <td>0</td>\n",
              "      <td>0</td>\n",
              "      <td>0</td>\n",
              "      <td>0</td>\n",
              "      <td>0</td>\n",
              "      <td>0</td>\n",
              "      <td>0</td>\n",
              "      <td>0</td>\n",
              "      <td>0</td>\n",
              "      <td>0</td>\n",
              "      <td>0</td>\n",
              "      <td>0</td>\n",
              "      <td>0</td>\n",
              "      <td>0</td>\n",
              "      <td>0</td>\n",
              "      <td>0</td>\n",
              "      <td>0</td>\n",
              "      <td>1</td>\n",
              "      <td>0</td>\n",
              "      <td>0</td>\n",
              "      <td>0</td>\n",
              "      <td>0</td>\n",
              "      <td>0</td>\n",
              "      <td>0</td>\n",
              "      <td>0</td>\n",
              "      <td>0</td>\n",
              "      <td>0</td>\n",
              "      <td>0</td>\n",
              "      <td>0</td>\n",
              "      <td>5</td>\n",
              "    </tr>\n",
              "  </tbody>\n",
              "</table>\n",
              "</div>"
            ],
            "text/plain": [
              "   Elevation  Aspect  Slope  ...  Soil_Type39  Soil_Type40  Cover_Type\n",
              "0       2596      51      3  ...            0            0           5\n",
              "1       2590      56      2  ...            0            0           5\n",
              "2       2804     139      9  ...            0            0           2\n",
              "3       2785     155     18  ...            0            0           2\n",
              "4       2595      45      2  ...            0            0           5\n",
              "\n",
              "[5 rows x 55 columns]"
            ]
          },
          "metadata": {
            "tags": []
          },
          "execution_count": 3
        }
      ]
    },
    {
      "cell_type": "markdown",
      "metadata": {
        "id": "MdY6zx0P49Hl",
        "colab_type": "text"
      },
      "source": [
        "##Step 3 : Preprocess data\n"
      ]
    },
    {
      "cell_type": "code",
      "metadata": {
        "id": "RZFlmRcwpsHG",
        "colab_type": "code",
        "outputId": "6c69d223-20b6-4664-e927-43fa76f5df6b",
        "colab": {
          "base_uri": "https://localhost:8080/",
          "height": 487
        }
      },
      "source": [
        "#Divide dataframe into three different dataframes (categorical input, continuous input and output) to perform normalisation operation\n",
        "\n",
        "\n",
        "concrete_continuos_input_col = ['Elevation', 'Aspect','Slope','Horizontal_Distance_To_HydrologyHorizontal','Vertical_Distance_To_HydrologyVertical','Horizontal_Distance_To_RoadwaysHorizontal',\n",
        "                                'Hillshade_9amHill','Hillshade_NoonHill','Hillshade_3pmHill','Horizontal_Distance_To_Fire_PointsHorizontal']\n",
        "\n",
        "\n",
        "concrete_categorical_input_col = ['Wilderness_Area1','Wilderness_Area2','Wilderness_Area3','Wilderness_Area4','Soil_Type1','Soil_Type2','Soil_Type3','Soil_Type4','Soil_Type5',\n",
        "                                  'Soil_Type6','Soil_Type7','Soil_Type8','Soil_Type9','Soil_Type10','Soil_Type11','Soil_Type12','Soil_Type13','Soil_Type14','Soil_Type15',\n",
        "                                  'Soil_Type16','Soil_Type17','Soil_Type18','Soil_Type19','Soil_Type20','Soil_Type21','Soil_Type22','Soil_Type23','Soil_Type24','Soil_Type25',\n",
        "                                  'Soil_Type26','Soil_Type27','Soil_Type28','Soil_Type29','Soil_Type30','Soil_Type31','Soil_Type32','Soil_Type33','Soil_Type34','Soil_Type35',\n",
        "                                  'Soil_Type36','Soil_Type37','Soil_Type38','Soil_Type39','Soil_Type40']\n",
        "\n",
        "concrete_continuos_input = concrete_dataframe[concrete_continuos_input_col]\n",
        "print(concrete_continuos_input)\n",
        "\n",
        "concrete_categorical_input = concrete_dataframe[concrete_categorical_input_col]\n",
        "print(concrete_categorical_input)"
      ],
      "execution_count": 0,
      "outputs": [
        {
          "output_type": "stream",
          "text": [
            "        Elevation  ...  Horizontal_Distance_To_Fire_PointsHorizontal\n",
            "0            2596  ...                                          6279\n",
            "1            2590  ...                                          6225\n",
            "2            2804  ...                                          6121\n",
            "3            2785  ...                                          6211\n",
            "4            2595  ...                                          6172\n",
            "...           ...  ...                                           ...\n",
            "581007       2396  ...                                           837\n",
            "581008       2391  ...                                           845\n",
            "581009       2386  ...                                           854\n",
            "581010       2384  ...                                           864\n",
            "581011       2383  ...                                           875\n",
            "\n",
            "[581012 rows x 10 columns]\n",
            "        Wilderness_Area1  Wilderness_Area2  ...  Soil_Type39  Soil_Type40\n",
            "0                      1                 0  ...            0            0\n",
            "1                      1                 0  ...            0            0\n",
            "2                      1                 0  ...            0            0\n",
            "3                      1                 0  ...            0            0\n",
            "4                      1                 0  ...            0            0\n",
            "...                  ...               ...  ...          ...          ...\n",
            "581007                 0                 0  ...            0            0\n",
            "581008                 0                 0  ...            0            0\n",
            "581009                 0                 0  ...            0            0\n",
            "581010                 0                 0  ...            0            0\n",
            "581011                 0                 0  ...            0            0\n",
            "\n",
            "[581012 rows x 44 columns]\n"
          ],
          "name": "stdout"
        }
      ]
    },
    {
      "cell_type": "code",
      "metadata": {
        "id": "p2EfXY63iH3h",
        "colab_type": "code",
        "outputId": "06723942-10ec-4264-e5bc-753507482bea",
        "colab": {
          "base_uri": "https://localhost:8080/",
          "height": 252
        }
      },
      "source": [
        "#Target Output - subtracting 1 from output as output layer requires output from starting from 0\n",
        "\n",
        "concrete_target_col = [\"Cover_Type\"]\n",
        "concrete_target = concrete_dataframe[concrete_target_col] - 1\n",
        "print(concrete_target)"
      ],
      "execution_count": 0,
      "outputs": [
        {
          "output_type": "stream",
          "text": [
            "        Cover_Type\n",
            "0                4\n",
            "1                4\n",
            "2                1\n",
            "3                1\n",
            "4                4\n",
            "...            ...\n",
            "581007           2\n",
            "581008           2\n",
            "581009           2\n",
            "581010           2\n",
            "581011           2\n",
            "\n",
            "[581012 rows x 1 columns]\n"
          ],
          "name": "stdout"
        }
      ]
    },
    {
      "cell_type": "code",
      "metadata": {
        "id": "TcnF7x5dqM4t",
        "colab_type": "code",
        "colab": {}
      },
      "source": [
        "# Choose the first 406709 examples for training.\n",
        "\n",
        "training_continuous_input = concrete_continuos_input.head(406709)\n",
        "training_categorical_input = concrete_categorical_input.head(406709)\n",
        "training_output = concrete_target.head(406709)\n",
        "\n",
        "# Choose the last 174303 examples for validation.\n",
        "\n",
        "validation_continuous_input = concrete_continuos_input.tail(174303)\n",
        "validation_categorical_input = concrete_categorical_input.tail(174303)\n",
        "validation_output = concrete_target.tail(174303)"
      ],
      "execution_count": 0,
      "outputs": []
    },
    {
      "cell_type": "code",
      "metadata": {
        "id": "9H1a_Jz3rcJo",
        "colab_type": "code",
        "outputId": "38b3a7b4-9226-48af-b7e1-b08a4dcbbb35",
        "colab": {
          "base_uri": "https://localhost:8080/",
          "height": 1000
        }
      },
      "source": [
        "#Standardize features by removing the mean and scaling to unit variance for training and validation dataframes \n",
        "\n",
        "scaler = StandardScaler().fit(training_continuous_input.values)\n",
        "scaledf = scaler.transform(training_continuous_input.values)\n",
        "scaled_training_continuous = pd.DataFrame(scaledf, index=training_continuous_input.index, columns=training_continuous_input.columns)\n",
        "\n",
        "vscaled = scaler.transform(validation_continuous_input.values)\n",
        "scaled_validation_continuous = pd.DataFrame(vscaled, index=validation_continuous_input.index, columns=validation_continuous_input.columns)\n",
        "\n",
        "\n",
        "# Double-check that we've done the right thing.\n",
        "print(\"Training examples summary:\")\n",
        "display.display(scaled_training_continuous.describe())\n",
        "print(\"Validation examples summary:\")\n",
        "display.display(scaled_validation_continuous.describe())\n",
        "\n",
        "print(\"Training targets summary:\")\n",
        "display.display(training_output.describe())\n",
        "print(\"Validation targets summary:\")\n",
        "display.display(validation_output.describe())"
      ],
      "execution_count": 0,
      "outputs": [
        {
          "output_type": "stream",
          "text": [
            "Training examples summary:\n"
          ],
          "name": "stdout"
        },
        {
          "output_type": "display_data",
          "data": {
            "text/html": [
              "<div>\n",
              "<style scoped>\n",
              "    .dataframe tbody tr th:only-of-type {\n",
              "        vertical-align: middle;\n",
              "    }\n",
              "\n",
              "    .dataframe tbody tr th {\n",
              "        vertical-align: top;\n",
              "    }\n",
              "\n",
              "    .dataframe thead th {\n",
              "        text-align: right;\n",
              "    }\n",
              "</style>\n",
              "<table border=\"1\" class=\"dataframe\">\n",
              "  <thead>\n",
              "    <tr style=\"text-align: right;\">\n",
              "      <th></th>\n",
              "      <th>Elevation</th>\n",
              "      <th>Aspect</th>\n",
              "      <th>Slope</th>\n",
              "      <th>Horizontal_Distance_To_HydrologyHorizontal</th>\n",
              "      <th>Vertical_Distance_To_HydrologyVertical</th>\n",
              "      <th>Horizontal_Distance_To_RoadwaysHorizontal</th>\n",
              "      <th>Hillshade_9amHill</th>\n",
              "      <th>Hillshade_NoonHill</th>\n",
              "      <th>Hillshade_3pmHill</th>\n",
              "      <th>Horizontal_Distance_To_Fire_PointsHorizontal</th>\n",
              "    </tr>\n",
              "  </thead>\n",
              "  <tbody>\n",
              "    <tr>\n",
              "      <th>count</th>\n",
              "      <td>406709.0</td>\n",
              "      <td>406709.0</td>\n",
              "      <td>406709.0</td>\n",
              "      <td>406709.0</td>\n",
              "      <td>406709.0</td>\n",
              "      <td>406709.0</td>\n",
              "      <td>406709.0</td>\n",
              "      <td>406709.0</td>\n",
              "      <td>406709.0</td>\n",
              "      <td>406709.0</td>\n",
              "    </tr>\n",
              "    <tr>\n",
              "      <th>mean</th>\n",
              "      <td>0.0</td>\n",
              "      <td>-0.0</td>\n",
              "      <td>-0.0</td>\n",
              "      <td>-0.0</td>\n",
              "      <td>0.0</td>\n",
              "      <td>-0.0</td>\n",
              "      <td>-0.0</td>\n",
              "      <td>0.0</td>\n",
              "      <td>0.0</td>\n",
              "      <td>0.0</td>\n",
              "    </tr>\n",
              "    <tr>\n",
              "      <th>std</th>\n",
              "      <td>1.0</td>\n",
              "      <td>1.0</td>\n",
              "      <td>1.0</td>\n",
              "      <td>1.0</td>\n",
              "      <td>1.0</td>\n",
              "      <td>1.0</td>\n",
              "      <td>1.0</td>\n",
              "      <td>1.0</td>\n",
              "      <td>1.0</td>\n",
              "      <td>1.0</td>\n",
              "    </tr>\n",
              "    <tr>\n",
              "      <th>min</th>\n",
              "      <td>-3.7</td>\n",
              "      <td>-1.3</td>\n",
              "      <td>-1.8</td>\n",
              "      <td>-1.3</td>\n",
              "      <td>-3.7</td>\n",
              "      <td>-1.5</td>\n",
              "      <td>-7.9</td>\n",
              "      <td>-9.9</td>\n",
              "      <td>-3.7</td>\n",
              "      <td>-1.5</td>\n",
              "    </tr>\n",
              "    <tr>\n",
              "      <th>25%</th>\n",
              "      <td>-0.5</td>\n",
              "      <td>-0.8</td>\n",
              "      <td>-0.7</td>\n",
              "      <td>-0.8</td>\n",
              "      <td>-0.7</td>\n",
              "      <td>-0.8</td>\n",
              "      <td>-0.5</td>\n",
              "      <td>-0.5</td>\n",
              "      <td>-0.6</td>\n",
              "      <td>-0.7</td>\n",
              "    </tr>\n",
              "    <tr>\n",
              "      <th>50%</th>\n",
              "      <td>0.1</td>\n",
              "      <td>-0.3</td>\n",
              "      <td>-0.2</td>\n",
              "      <td>-0.2</td>\n",
              "      <td>-0.3</td>\n",
              "      <td>-0.2</td>\n",
              "      <td>0.2</td>\n",
              "      <td>0.1</td>\n",
              "      <td>0.0</td>\n",
              "      <td>-0.2</td>\n",
              "    </tr>\n",
              "    <tr>\n",
              "      <th>75%</th>\n",
              "      <td>0.7</td>\n",
              "      <td>0.9</td>\n",
              "      <td>0.6</td>\n",
              "      <td>0.5</td>\n",
              "      <td>0.4</td>\n",
              "      <td>0.7</td>\n",
              "      <td>0.7</td>\n",
              "      <td>0.7</td>\n",
              "      <td>0.6</td>\n",
              "      <td>0.4</td>\n",
              "    </tr>\n",
              "    <tr>\n",
              "      <th>max</th>\n",
              "      <td>3.3</td>\n",
              "      <td>1.9</td>\n",
              "      <td>6.6</td>\n",
              "      <td>5.5</td>\n",
              "      <td>10.1</td>\n",
              "      <td>2.7</td>\n",
              "      <td>1.5</td>\n",
              "      <td>1.6</td>\n",
              "      <td>3.0</td>\n",
              "      <td>3.5</td>\n",
              "    </tr>\n",
              "  </tbody>\n",
              "</table>\n",
              "</div>"
            ],
            "text/plain": [
              "       Elevation  ...  Horizontal_Distance_To_Fire_PointsHorizontal\n",
              "count   406709.0  ...                                      406709.0\n",
              "mean         0.0  ...                                           0.0\n",
              "std          1.0  ...                                           1.0\n",
              "min         -3.7  ...                                          -1.5\n",
              "25%         -0.5  ...                                          -0.7\n",
              "50%          0.1  ...                                          -0.2\n",
              "75%          0.7  ...                                           0.4\n",
              "max          3.3  ...                                           3.5\n",
              "\n",
              "[8 rows x 10 columns]"
            ]
          },
          "metadata": {
            "tags": []
          }
        },
        {
          "output_type": "stream",
          "text": [
            "Validation examples summary:\n"
          ],
          "name": "stdout"
        },
        {
          "output_type": "display_data",
          "data": {
            "text/html": [
              "<div>\n",
              "<style scoped>\n",
              "    .dataframe tbody tr th:only-of-type {\n",
              "        vertical-align: middle;\n",
              "    }\n",
              "\n",
              "    .dataframe tbody tr th {\n",
              "        vertical-align: top;\n",
              "    }\n",
              "\n",
              "    .dataframe thead th {\n",
              "        text-align: right;\n",
              "    }\n",
              "</style>\n",
              "<table border=\"1\" class=\"dataframe\">\n",
              "  <thead>\n",
              "    <tr style=\"text-align: right;\">\n",
              "      <th></th>\n",
              "      <th>Elevation</th>\n",
              "      <th>Aspect</th>\n",
              "      <th>Slope</th>\n",
              "      <th>Horizontal_Distance_To_HydrologyHorizontal</th>\n",
              "      <th>Vertical_Distance_To_HydrologyVertical</th>\n",
              "      <th>Horizontal_Distance_To_RoadwaysHorizontal</th>\n",
              "      <th>Hillshade_9amHill</th>\n",
              "      <th>Hillshade_NoonHill</th>\n",
              "      <th>Hillshade_3pmHill</th>\n",
              "      <th>Horizontal_Distance_To_Fire_PointsHorizontal</th>\n",
              "    </tr>\n",
              "  </thead>\n",
              "  <tbody>\n",
              "    <tr>\n",
              "      <th>count</th>\n",
              "      <td>174303.0</td>\n",
              "      <td>174303.0</td>\n",
              "      <td>174303.0</td>\n",
              "      <td>174303.0</td>\n",
              "      <td>174303.0</td>\n",
              "      <td>174303.0</td>\n",
              "      <td>174303.0</td>\n",
              "      <td>174303.0</td>\n",
              "      <td>174303.0</td>\n",
              "      <td>174303.0</td>\n",
              "    </tr>\n",
              "    <tr>\n",
              "      <th>mean</th>\n",
              "      <td>0.6</td>\n",
              "      <td>0.2</td>\n",
              "      <td>0.2</td>\n",
              "      <td>0.2</td>\n",
              "      <td>0.2</td>\n",
              "      <td>-0.4</td>\n",
              "      <td>-0.1</td>\n",
              "      <td>0.1</td>\n",
              "      <td>0.1</td>\n",
              "      <td>-0.3</td>\n",
              "    </tr>\n",
              "    <tr>\n",
              "      <th>std</th>\n",
              "      <td>0.9</td>\n",
              "      <td>1.0</td>\n",
              "      <td>0.9</td>\n",
              "      <td>1.1</td>\n",
              "      <td>1.2</td>\n",
              "      <td>0.7</td>\n",
              "      <td>1.0</td>\n",
              "      <td>1.0</td>\n",
              "      <td>1.0</td>\n",
              "      <td>0.7</td>\n",
              "    </tr>\n",
              "    <tr>\n",
              "      <th>min</th>\n",
              "      <td>-2.3</td>\n",
              "      <td>-1.3</td>\n",
              "      <td>-1.8</td>\n",
              "      <td>-1.3</td>\n",
              "      <td>-3.9</td>\n",
              "      <td>-1.5</td>\n",
              "      <td>-7.9</td>\n",
              "      <td>-11.4</td>\n",
              "      <td>-3.7</td>\n",
              "      <td>-1.5</td>\n",
              "    </tr>\n",
              "    <tr>\n",
              "      <th>25%</th>\n",
              "      <td>0.1</td>\n",
              "      <td>-0.8</td>\n",
              "      <td>-0.5</td>\n",
              "      <td>-0.7</td>\n",
              "      <td>-0.6</td>\n",
              "      <td>-0.9</td>\n",
              "      <td>-0.7</td>\n",
              "      <td>-0.5</td>\n",
              "      <td>-0.6</td>\n",
              "      <td>-0.8</td>\n",
              "    </tr>\n",
              "    <tr>\n",
              "      <th>50%</th>\n",
              "      <td>0.8</td>\n",
              "      <td>0.1</td>\n",
              "      <td>0.0</td>\n",
              "      <td>-0.1</td>\n",
              "      <td>-0.2</td>\n",
              "      <td>-0.5</td>\n",
              "      <td>-0.0</td>\n",
              "      <td>0.3</td>\n",
              "      <td>0.2</td>\n",
              "      <td>-0.4</td>\n",
              "    </tr>\n",
              "    <tr>\n",
              "      <th>75%</th>\n",
              "      <td>1.2</td>\n",
              "      <td>1.1</td>\n",
              "      <td>0.8</td>\n",
              "      <td>0.8</td>\n",
              "      <td>0.7</td>\n",
              "      <td>0.0</td>\n",
              "      <td>0.6</td>\n",
              "      <td>0.9</td>\n",
              "      <td>0.9</td>\n",
              "      <td>0.1</td>\n",
              "    </tr>\n",
              "    <tr>\n",
              "      <th>max</th>\n",
              "      <td>3.4</td>\n",
              "      <td>1.9</td>\n",
              "      <td>6.9</td>\n",
              "      <td>5.2</td>\n",
              "      <td>7.3</td>\n",
              "      <td>1.7</td>\n",
              "      <td>1.5</td>\n",
              "      <td>1.6</td>\n",
              "      <td>2.9</td>\n",
              "      <td>2.6</td>\n",
              "    </tr>\n",
              "  </tbody>\n",
              "</table>\n",
              "</div>"
            ],
            "text/plain": [
              "       Elevation  ...  Horizontal_Distance_To_Fire_PointsHorizontal\n",
              "count   174303.0  ...                                      174303.0\n",
              "mean         0.6  ...                                          -0.3\n",
              "std          0.9  ...                                           0.7\n",
              "min         -2.3  ...                                          -1.5\n",
              "25%          0.1  ...                                          -0.8\n",
              "50%          0.8  ...                                          -0.4\n",
              "75%          1.2  ...                                           0.1\n",
              "max          3.4  ...                                           2.6\n",
              "\n",
              "[8 rows x 10 columns]"
            ]
          },
          "metadata": {
            "tags": []
          }
        },
        {
          "output_type": "stream",
          "text": [
            "Training targets summary:\n"
          ],
          "name": "stdout"
        },
        {
          "output_type": "display_data",
          "data": {
            "text/html": [
              "<div>\n",
              "<style scoped>\n",
              "    .dataframe tbody tr th:only-of-type {\n",
              "        vertical-align: middle;\n",
              "    }\n",
              "\n",
              "    .dataframe tbody tr th {\n",
              "        vertical-align: top;\n",
              "    }\n",
              "\n",
              "    .dataframe thead th {\n",
              "        text-align: right;\n",
              "    }\n",
              "</style>\n",
              "<table border=\"1\" class=\"dataframe\">\n",
              "  <thead>\n",
              "    <tr style=\"text-align: right;\">\n",
              "      <th></th>\n",
              "      <th>Cover_Type</th>\n",
              "    </tr>\n",
              "  </thead>\n",
              "  <tbody>\n",
              "    <tr>\n",
              "      <th>count</th>\n",
              "      <td>406709.0</td>\n",
              "    </tr>\n",
              "    <tr>\n",
              "      <th>mean</th>\n",
              "      <td>1.1</td>\n",
              "    </tr>\n",
              "    <tr>\n",
              "      <th>std</th>\n",
              "      <td>1.3</td>\n",
              "    </tr>\n",
              "    <tr>\n",
              "      <th>min</th>\n",
              "      <td>0.0</td>\n",
              "    </tr>\n",
              "    <tr>\n",
              "      <th>25%</th>\n",
              "      <td>0.0</td>\n",
              "    </tr>\n",
              "    <tr>\n",
              "      <th>50%</th>\n",
              "      <td>1.0</td>\n",
              "    </tr>\n",
              "    <tr>\n",
              "      <th>75%</th>\n",
              "      <td>1.0</td>\n",
              "    </tr>\n",
              "    <tr>\n",
              "      <th>max</th>\n",
              "      <td>6.0</td>\n",
              "    </tr>\n",
              "  </tbody>\n",
              "</table>\n",
              "</div>"
            ],
            "text/plain": [
              "       Cover_Type\n",
              "count    406709.0\n",
              "mean          1.1\n",
              "std           1.3\n",
              "min           0.0\n",
              "25%           0.0\n",
              "50%           1.0\n",
              "75%           1.0\n",
              "max           6.0"
            ]
          },
          "metadata": {
            "tags": []
          }
        },
        {
          "output_type": "stream",
          "text": [
            "Validation targets summary:\n"
          ],
          "name": "stdout"
        },
        {
          "output_type": "display_data",
          "data": {
            "text/html": [
              "<div>\n",
              "<style scoped>\n",
              "    .dataframe tbody tr th:only-of-type {\n",
              "        vertical-align: middle;\n",
              "    }\n",
              "\n",
              "    .dataframe tbody tr th {\n",
              "        vertical-align: top;\n",
              "    }\n",
              "\n",
              "    .dataframe thead th {\n",
              "        text-align: right;\n",
              "    }\n",
              "</style>\n",
              "<table border=\"1\" class=\"dataframe\">\n",
              "  <thead>\n",
              "    <tr style=\"text-align: right;\">\n",
              "      <th></th>\n",
              "      <th>Cover_Type</th>\n",
              "    </tr>\n",
              "  </thead>\n",
              "  <tbody>\n",
              "    <tr>\n",
              "      <th>count</th>\n",
              "      <td>174303.0</td>\n",
              "    </tr>\n",
              "    <tr>\n",
              "      <th>mean</th>\n",
              "      <td>0.9</td>\n",
              "    </tr>\n",
              "    <tr>\n",
              "      <th>std</th>\n",
              "      <td>1.5</td>\n",
              "    </tr>\n",
              "    <tr>\n",
              "      <th>min</th>\n",
              "      <td>0.0</td>\n",
              "    </tr>\n",
              "    <tr>\n",
              "      <th>25%</th>\n",
              "      <td>0.0</td>\n",
              "    </tr>\n",
              "    <tr>\n",
              "      <th>50%</th>\n",
              "      <td>0.0</td>\n",
              "    </tr>\n",
              "    <tr>\n",
              "      <th>75%</th>\n",
              "      <td>1.0</td>\n",
              "    </tr>\n",
              "    <tr>\n",
              "      <th>max</th>\n",
              "      <td>6.0</td>\n",
              "    </tr>\n",
              "  </tbody>\n",
              "</table>\n",
              "</div>"
            ],
            "text/plain": [
              "       Cover_Type\n",
              "count    174303.0\n",
              "mean          0.9\n",
              "std           1.5\n",
              "min           0.0\n",
              "25%           0.0\n",
              "50%           0.0\n",
              "75%           1.0\n",
              "max           6.0"
            ]
          },
          "metadata": {
            "tags": []
          }
        }
      ]
    },
    {
      "cell_type": "code",
      "metadata": {
        "id": "q6cksB0t1DG3",
        "colab_type": "code",
        "colab": {}
      },
      "source": [
        "#Combining dataframe for categorical and continuous variables \n",
        "\n",
        "training_combined = pd.concat([scaled_training_continuous, training_categorical_input],axis=1)\n",
        "validation_combined =  pd.concat([scaled_validation_continuous, validation_categorical_input], axis=1)"
      ],
      "execution_count": 0,
      "outputs": []
    },
    {
      "cell_type": "markdown",
      "metadata": {
        "id": "2F6UVaYdad-J",
        "colab_type": "text"
      },
      "source": [
        "## Step 4.1: Building First model "
      ]
    },
    {
      "cell_type": "code",
      "metadata": {
        "id": "uUiqy8i3sowb",
        "colab_type": "code",
        "colab": {}
      },
      "source": [
        "#Building first model for binary classification \n",
        "\n",
        "first_model = keras.Sequential([keras.layers.Dense(32,activation=tf.nn.relu,\n",
        "                       input_shape=(training_combined.shape[1],)),\n",
        "                       keras.layers.Dense(32,activation=tf.nn.relu,),\n",
        "                       keras.layers.Dense(7, activation= \"softmax\")  # for multiclassification 3, activation=tf.softmax\n",
        "                        ])\n",
        "\n",
        "optimizer = tf.train.RMSPropOptimizer(0.001)  # algorithm for minimising the error\n",
        "#optimizer = tf.train.AdamOptimizer()\n",
        "\n",
        "first_model.compile(loss='sparse_categorical_crossentropy', # mean squared error\n",
        "                optimizer=optimizer,\n",
        "                metrics=['accuracy'])  #mean absolute error\n",
        "# no. of neurons in hidden layer=input+output/2\n",
        "# or 2/3 Input +output or 2 times input relu has to do with optimisation, easier to compute gradients"
      ],
      "execution_count": 0,
      "outputs": []
    },
    {
      "cell_type": "markdown",
      "metadata": {
        "id": "X5y9Cxa0dCgy",
        "colab_type": "text"
      },
      "source": [
        "## Step 4.2: Building L1 model "
      ]
    },
    {
      "cell_type": "code",
      "metadata": {
        "id": "UBNFZwr0dARq",
        "colab_type": "code",
        "colab": {}
      },
      "source": [
        "#Building L1 model for binary classification \n",
        "\n",
        "l1_model = keras.Sequential([\n",
        "    keras.layers.Dense(60, activation=tf.nn.relu,\n",
        "                       kernel_regularizer=keras.regularizers.l2(0.1),\n",
        "                       input_shape=(training_combined.shape[1],)),\n",
        "    keras.layers.Dropout(0.25),\n",
        "    keras.layers.Dense(60, activation=tf.nn.relu,\n",
        "                       kernel_regularizer=keras.regularizers.l2(0.1),\n",
        "                       input_shape=(training_combined.shape[1],)),\n",
        "    keras.layers.Dropout(0.25),\n",
        "    keras.layers.Dense(60, activation=tf.nn.relu,\n",
        "                       kernel_regularizer=keras.regularizers.l2(0.1),\n",
        "                       input_shape=(training_combined.shape[1],)),\n",
        "    keras.layers.Dropout(0.25),\n",
        "    keras.layers.Dense(32,activation=tf.nn.relu,\n",
        "                       kernel_regularizer=keras.regularizers.l2(0.1),\n",
        "                      ),\n",
        "    keras.layers.Dense(16,activation=tf.nn.relu,\n",
        "                       kernel_regularizer=keras.regularizers.l2(0.1),\n",
        "                      ),\n",
        "    keras.layers.Dense(7, activation= \"softmax\")\n",
        "  ])\n",
        "\n",
        "\n",
        "l1_model.compile(loss='sparse_categorical_crossentropy', # mean squared error\n",
        "                optimizer=optimizer,\n",
        "                metrics=['accuracy'])  #mean absolute error"
      ],
      "execution_count": 0,
      "outputs": []
    },
    {
      "cell_type": "code",
      "metadata": {
        "id": "Mkv5p_ckwtTX",
        "colab_type": "code",
        "outputId": "2d316199-bba6-4cf3-cd9a-b96bb4fd9e8c",
        "colab": {
          "base_uri": "https://localhost:8080/",
          "height": 487
        }
      },
      "source": [
        "print(training_output)\n",
        "print(validation_output)"
      ],
      "execution_count": 0,
      "outputs": [
        {
          "output_type": "stream",
          "text": [
            "        Cover_Type\n",
            "0                5\n",
            "1                5\n",
            "2                2\n",
            "3                2\n",
            "4                5\n",
            "...            ...\n",
            "406704           2\n",
            "406705           2\n",
            "406706           2\n",
            "406707           2\n",
            "406708           2\n",
            "\n",
            "[406709 rows x 1 columns]\n",
            "        Cover_Type\n",
            "406709           2\n",
            "406710           2\n",
            "406711           2\n",
            "406712           2\n",
            "406713           2\n",
            "...            ...\n",
            "581007           3\n",
            "581008           3\n",
            "581009           3\n",
            "581010           3\n",
            "581011           3\n",
            "\n",
            "[174303 rows x 1 columns]\n"
          ],
          "name": "stdout"
        }
      ]
    },
    {
      "cell_type": "markdown",
      "metadata": {
        "id": "vzLeiC2WeZph",
        "colab_type": "text"
      },
      "source": [
        "## Step 4. 3: Building Baseline model  for covertype dataset"
      ]
    },
    {
      "cell_type": "code",
      "metadata": {
        "id": "EYRf_5RBfW8P",
        "colab_type": "code",
        "outputId": "ba76b226-c701-40f1-cafc-1f64d5ab7ca2",
        "colab": {
          "base_uri": "https://localhost:8080/",
          "height": 134
        }
      },
      "source": [
        "validation_output['Cover_Type'].value_counts()"
      ],
      "execution_count": 0,
      "outputs": [
        {
          "output_type": "execute_result",
          "data": {
            "text/plain": [
              "0    88210\n",
              "1    64372\n",
              "6     9857\n",
              "2     8034\n",
              "5     3106\n",
              "4      724\n",
              "Name: Cover_Type, dtype: int64"
            ]
          },
          "metadata": {
            "tags": []
          },
          "execution_count": 10
        }
      ]
    },
    {
      "cell_type": "code",
      "metadata": {
        "id": "oBC6Yta5btAQ",
        "colab_type": "code",
        "outputId": "aa52f566-17ea-4d6f-9e1d-1f2cdb3ee982",
        "colab": {
          "base_uri": "https://localhost:8080/",
          "height": 34
        }
      },
      "source": [
        "accuracy_original= (validation_output['Cover_Type'].value_counts()[0]/validation_output['Cover_Type'].count())*100\n",
        "print(\"Accuracy: \",accuracy_original,\"%\")"
      ],
      "execution_count": 0,
      "outputs": [
        {
          "output_type": "stream",
          "text": [
            "Accuracy:  44.79785201631641 %\n"
          ],
          "name": "stdout"
        }
      ]
    },
    {
      "cell_type": "markdown",
      "metadata": {
        "id": "jgMG_Z57bkL7",
        "colab_type": "text"
      },
      "source": [
        "##Step 5: Fit Model (First model and L1 model)"
      ]
    },
    {
      "cell_type": "code",
      "metadata": {
        "id": "yp8hVc1KiNsZ",
        "colab_type": "code",
        "outputId": "8cf9d26a-d805-4461-de8d-1ebccd345d11",
        "colab": {
          "base_uri": "https://localhost:8080/",
          "height": 67
        }
      },
      "source": [
        "\n",
        "class PrintDot(keras.callbacks.Callback): # prints dot at the end of every epoch\n",
        "  def on_epoch_end(self, epoch, logs):\n",
        "    if epoch % 100 == 0: print('')\n",
        "    print('.', end='')\n",
        "\n",
        "EPOCHS = 50  # number of times the model runs with different orders of 83 records\n",
        "tf.set_random_seed(1)\n",
        "\n",
        "# Store training stats\n",
        "\n",
        "f1_history = first_model.fit(training_combined, training_output, epochs=EPOCHS,\n",
        "                    validation_data= (validation_combined, validation_output), verbose=0,\n",
        "                    callbacks=[PrintDot()])\n",
        "\n",
        "l1_history = l1_model.fit(training_combined, training_output, epochs=EPOCHS,\n",
        "                    validation_data= (validation_combined, validation_output), verbose=0,\n",
        "                    callbacks=[PrintDot()])"
      ],
      "execution_count": 0,
      "outputs": [
        {
          "output_type": "stream",
          "text": [
            "\n",
            "..................................................\n",
            ".................................................."
          ],
          "name": "stdout"
        }
      ]
    },
    {
      "cell_type": "code",
      "metadata": {
        "id": "RNL5MXTen1T3",
        "colab_type": "code",
        "outputId": "db44b866-1d2c-4d06-8bd0-78e69cd06a94",
        "colab": {
          "base_uri": "https://localhost:8080/",
          "height": 50
        }
      },
      "source": [
        "print(\" l1 model maximum accuracy:\",max(l1_history.history['val_acc']))\n",
        "print(\" f1 model maximum accuracy:\",max(f1_history.history['val_acc']))"
      ],
      "execution_count": 0,
      "outputs": [
        {
          "output_type": "stream",
          "text": [
            " l1 model maximum accuracy: 0.36931092\n",
            " f1 model maximum accuracy: 0.6088306\n"
          ],
          "name": "stdout"
        }
      ]
    },
    {
      "cell_type": "markdown",
      "metadata": {
        "id": "d14INUBab1zr",
        "colab_type": "text"
      },
      "source": [
        "##Step 7: Plot Results\n",
        "\n",
        "### 1. Graph for accuracy of all models"
      ]
    },
    {
      "cell_type": "code",
      "metadata": {
        "id": "0DYX95D7s0a6",
        "colab_type": "code",
        "outputId": "4860c7bb-325e-4ac3-f110-a6ce09e438d7",
        "colab": {
          "base_uri": "https://localhost:8080/",
          "height": 610
        }
      },
      "source": [
        "import matplotlib.pyplot as plt\n",
        "\n",
        "def plot_history(histories, key='acc'):\n",
        "  plt.figure(figsize=(16,10))\n",
        "  for name, history in histories:\n",
        "    val = plt.plot(history.epoch, history.history['val_'+key],\n",
        "                   '--', label=name.title()+' Val')\n",
        "    plt.plot(history.epoch, history.history[key], color=val[0].get_color(),\n",
        "             label=name.title()+' Train')\n",
        "\n",
        "  plt.xlabel('Epochs')\n",
        "  #plt.ylabel(key.replace('_',' ').title())\n",
        "  plt.ylabel('Accuracy')\n",
        "  plt.legend()\n",
        "\n",
        "  plt.xlim([0,max(history.epoch)])\n",
        "  plt.ylim([0,1])\n",
        "\n",
        "plot_history([('baseline', f1_history),\n",
        "              ('L1', l1_history)])"
      ],
      "execution_count": 0,
      "outputs": [
        {
          "output_type": "display_data",
          "data": {
            "image/png": "[encoded data removed]",
            "text/plain": [
              "<Figure size 1152x720 with 1 Axes>"
            ]
          },
          "metadata": {
            "tags": []
          }
        }
      ]
    },
    {
      "cell_type": "code",
      "metadata": {
        "id": "WByUip9RbHcM",
        "colab_type": "code",
        "outputId": "90efb305-5117-43bc-98ba-1e778ceb9ffa",
        "colab": {
          "base_uri": "https://localhost:8080/",
          "height": 610
        }
      },
      "source": [
        "import matplotlib.pyplot as plt\n",
        "\n",
        "def plot_history(histories, key='acc'):\n",
        "  plt.figure(figsize=(16,10))\n",
        "  for name, history in histories:\n",
        "    val = plt.plot(history.epoch, history.history['val_'+key],\n",
        "                   '--', label=name.title()+' Val')\n",
        "    plt.plot(history.epoch, history.history[key], color=val[0].get_color(),\n",
        "             label=name.title()+' Train')\n",
        "\n",
        "  plt.xlabel('Epochs')\n",
        "  #plt.ylabel(key.replace('_',' ').title())\n",
        "  plt.ylabel('Accuracy')\n",
        "  plt.legend()\n",
        "\n",
        "  plt.xlim([0,max(history.epoch)])\n",
        "  plt.ylim([0,1])\n",
        "\n",
        "plot_history([('baseline', f1_history),\n",
        "              ('L1', l1_history)])"
      ],
      "execution_count": 0,
      "outputs": [
        {
          "output_type": "display_data",
          "data": {
            "image/png": "[encoded data removed]",
            "text/plain": [
              "<Figure size 1152x720 with 1 Axes>"
            ]
          },
          "metadata": {
            "tags": []
          }
        }
      ]
    },
    {
      "cell_type": "markdown",
      "metadata": {
        "id": "y1SJgudkWLpX",
        "colab_type": "text"
      },
      "source": [
        "#Model2:  "
      ]
    },
    {
      "cell_type": "code",
      "metadata": {
        "id": "8yvM05aBs7LF",
        "colab_type": "code",
        "colab": {}
      },
      "source": [
        "#Trying model with less number of neurons \n",
        "\n",
        "model2 = keras.Sequential([\n",
        "    keras.layers.Dense(16, activation=tf.nn.relu,\n",
        "                       input_shape=(training_combined.shape[1],)),\n",
        "    keras.layers.Dense(16, activation=tf.nn.relu),\n",
        "    keras.layers.Dense(16, activation=tf.nn.relu),\n",
        "    keras.layers.Dense(7,activation='softmax')\n",
        "  ])\n",
        "\n",
        "optimizer = tf.train.RMSPropOptimizer(0.001)\n",
        "\n",
        "model2.compile(loss='sparse_categorical_crossentropy',\n",
        "                optimizer=optimizer,\n",
        "                metrics=['accuracy'])"
      ],
      "execution_count": 0,
      "outputs": []
    },
    {
      "cell_type": "code",
      "metadata": {
        "id": "AM_lxtM8tOBV",
        "colab_type": "code",
        "outputId": "579a20c2-ba82-469f-fd8b-7eef0346b3a8",
        "colab": {
          "base_uri": "https://localhost:8080/",
          "height": 118
        }
      },
      "source": [
        "f2_history = model2.fit(training_combined, training_output, epochs=500,\n",
        "                    validation_data= (validation_combined, validation_output), verbose=0,\n",
        "                    callbacks=[PrintDot()])"
      ],
      "execution_count": 0,
      "outputs": [
        {
          "output_type": "stream",
          "text": [
            "\n",
            "....................................................................................................\n",
            "....................................................................................................\n",
            "....................................................................................................\n",
            "....................................................................................................\n",
            "...................................................................................................."
          ],
          "name": "stdout"
        }
      ]
    },
    {
      "cell_type": "code",
      "metadata": {
        "id": "13yH7m9ddfMl",
        "colab_type": "code",
        "outputId": "824bf437-e7f5-48a3-b18c-52c1824c06d8",
        "colab": {
          "base_uri": "https://localhost:8080/",
          "height": 34
        }
      },
      "source": [
        "print(\" f1 model maximum accuracy:\",max(f2_history.history['val_acc']))"
      ],
      "execution_count": 0,
      "outputs": [
        {
          "output_type": "stream",
          "text": [
            " f1 model maximum accuracy: 0.63731545\n"
          ],
          "name": "stdout"
        }
      ]
    },
    {
      "cell_type": "code",
      "metadata": {
        "id": "Nq9beQyvMTUL",
        "colab_type": "code",
        "outputId": "c07ad4d3-79d1-49f8-a237-02ae07193bc7",
        "colab": {
          "base_uri": "https://localhost:8080/",
          "height": 610
        }
      },
      "source": [
        "import matplotlib.pyplot as plt\n",
        "\n",
        "\n",
        "def plot_history1(histories, key='acc'):\n",
        "  plt.figure(figsize=(16,10))\n",
        "  plt.subplot(2,1,1)\n",
        "  for name, history in histories:\n",
        "    val = plt.plot(history.epoch, history.history['val_'+key],\n",
        "                   '--', label=name.title()+' Val')\n",
        "    plt.plot(history.epoch, history.history[key], color=val[0].get_color(),\n",
        "             label=name.title()+' Train')\n",
        "\n",
        "  plt.xlabel('Epochs')\n",
        "  plt.ylabel(key.replace('_',' ').title())\n",
        "  plt.legend()\n",
        "\n",
        "  plt.xlim([0,max(history.epoch)])\n",
        "  plt.ylim([0,1.2])\n",
        "  \n",
        "def plot_history2(histories, key='loss'):\n",
        "  plt.subplot(2,1,2)\n",
        "  for name, history in histories:\n",
        "    val = plt.plot(history.epoch, history.history['val_'+key],\n",
        "                   '--', label=name.title()+' Val')\n",
        "    plt.plot(history.epoch, history.history[key], color=val[0].get_color(),\n",
        "             label=name.title()+' Train')\n",
        "\n",
        "  plt.xlabel('Epochs')\n",
        "  plt.ylabel(key.replace('_',' ').title())\n",
        "  plt.legend()\n",
        "\n",
        "  plt.xlim([0,max(history.epoch)])\n",
        "  plt.ylim([-2,2])\n",
        "\n",
        "\n",
        "# Plot history Multiple\n",
        "plot_history1([('Model 2', f2_history)])\n",
        "plot_history2([('Model 2', f2_history)])          "
      ],
      "execution_count": 0,
      "outputs": [
        {
          "output_type": "display_data",
          "data": {
            "image/png": "[encoded data removed]",
            "text/plain": [
              "<Figure size 1152x720 with 2 Axes>"
            ]
          },
          "metadata": {
            "tags": []
          }
        }
      ]
    },
    {
      "cell_type": "markdown",
      "metadata": {
        "id": "PKquxONNXmC2",
        "colab_type": "text"
      },
      "source": [
        "#Model3"
      ]
    },
    {
      "cell_type": "code",
      "metadata": {
        "id": "v4W4eQTsd6_E",
        "colab_type": "code",
        "colab": {}
      },
      "source": [
        " #Variation 2 with BatchNormalization\n",
        "  \n",
        "    model3 = keras.Sequential([\n",
        "    keras.layers.Dense(16, activation=tf.nn.relu,\n",
        "                       input_shape=(training_combined.shape[1],)),\n",
        "    keras.layers.Dense(16, activation=tf.nn.relu),\n",
        "    keras.layers.BatchNormalization(),\n",
        "    keras.layers.Dropout(0.2),\n",
        "    keras.layers.Dense(16, activation=tf.nn.relu),\n",
        "    keras.layers.Dense(7,activation='softmax')\n",
        "  ])\n",
        "\n",
        "optimizer = tf.train.RMSPropOptimizer(0.001)\n",
        "\n",
        "model3.compile(loss='sparse_categorical_crossentropy',\n",
        "                optimizer=optimizer,\n",
        "                metrics=['accuracy'])"
      ],
      "execution_count": 0,
      "outputs": []
    },
    {
      "cell_type": "code",
      "metadata": {
        "id": "Bcn8oLU4ej_l",
        "colab_type": "code",
        "outputId": "e5cd8dd4-bb46-428c-9dea-39ef99d03faa",
        "colab": {
          "base_uri": "https://localhost:8080/",
          "height": 50
        }
      },
      "source": [
        "f3_history = model3.fit(training_combined, training_output, epochs=50,\n",
        "                    validation_data= (validation_combined, validation_output), verbose=0,\n",
        "                    callbacks=[PrintDot()])"
      ],
      "execution_count": 0,
      "outputs": [
        {
          "output_type": "stream",
          "text": [
            "\n",
            ".................................................."
          ],
          "name": "stdout"
        }
      ]
    },
    {
      "cell_type": "code",
      "metadata": {
        "id": "jx1sdBmNnX6K",
        "colab_type": "code",
        "outputId": "8626ec95-cfd2-4464-cdab-1f0234d29be0",
        "colab": {
          "base_uri": "https://localhost:8080/",
          "height": 610
        }
      },
      "source": [
        "import matplotlib.pyplot as plt\n",
        "\n",
        "\n",
        "def plot_history1(histories, key='acc'):\n",
        "  plt.figure(figsize=(16,10))\n",
        "  plt.subplot(2,1,1)\n",
        "  for name, history in histories:\n",
        "    val = plt.plot(history.epoch, history.history['val_'+key],\n",
        "                   '--', label=name.title()+' Val')\n",
        "    plt.plot(history.epoch, history.history[key], color=val[0].get_color(),\n",
        "             label=name.title()+' Train')\n",
        "\n",
        "  plt.xlabel('Epochs')\n",
        "  plt.ylabel(key.replace('_',' ').title())\n",
        "  plt.legend()\n",
        "\n",
        "  plt.xlim([0,max(history.epoch)])\n",
        "  plt.ylim([0,1.2])\n",
        "  \n",
        "def plot_history2(histories, key='loss'):\n",
        "  plt.subplot(2,1,2)\n",
        "  for name, history in histories:\n",
        "    val = plt.plot(history.epoch, history.history['val_'+key],\n",
        "                   '--', label=name.title()+' Val')\n",
        "    plt.plot(history.epoch, history.history[key], color=val[0].get_color(),\n",
        "             label=name.title()+' Train')\n",
        "\n",
        "  plt.xlabel('Epochs')\n",
        "  plt.ylabel(key.replace('_',' ').title())\n",
        "  plt.legend()\n",
        "\n",
        "  plt.xlim([0,max(history.epoch)])\n",
        "  plt.ylim([-2,2])\n",
        "\n",
        "\n",
        "# Plot history Multiple\n",
        "plot_history1([('Model 2', f3_history)])\n",
        "plot_history2([('Model 2', f3_history)])          "
      ],
      "execution_count": 0,
      "outputs": [
        {
          "output_type": "display_data",
          "data": {
            "image/png": "[encoded data removed]",
            "text/plain": [
              "<Figure size 1152x720 with 2 Axes>"
            ]
          },
          "metadata": {
            "tags": []
          }
        }
      ]
    },
    {
      "cell_type": "code",
      "metadata": {
        "id": "bH4IhxHFewQH",
        "colab_type": "code",
        "outputId": "07cadbb9-1b74-4217-ce26-ee2e905213e7",
        "colab": {
          "base_uri": "https://localhost:8080/",
          "height": 34
        }
      },
      "source": [
        "print(\" f3 model maximum accuracy:\",max(f3_history.history['val_acc']))"
      ],
      "execution_count": 0,
      "outputs": [
        {
          "output_type": "stream",
          "text": [
            " f3 model maximum accuracy: 0.62281775\n"
          ],
          "name": "stdout"
        }
      ]
    },
    {
      "cell_type": "markdown",
      "metadata": {
        "id": "q6jgm_9UYsfI",
        "colab_type": "text"
      },
      "source": [
        "#Model6"
      ]
    },
    {
      "cell_type": "code",
      "metadata": {
        "id": "xhgG2B6nCYcC",
        "colab_type": "code",
        "colab": {}
      },
      "source": [
        "#variation with more layers \n",
        "\n",
        "model6 = keras.Sequential([\n",
        "    keras.layers.Dense(50, activation=tf.nn.relu,\n",
        "                       input_shape=(training_combined.shape[1],)),\n",
        "    keras.layers.Dense(65, activation=tf.nn.relu),\n",
        "    keras.layers.Dense(65, activation=tf.nn.relu),\n",
        "    keras.layers.Dense(65, activation=tf.nn.relu),\n",
        "    keras.layers.BatchNormalization(),\n",
        "    keras.layers.Dropout(0.2),\n",
        "    keras.layers.Dense(65, activation=tf.nn.relu),\n",
        "    keras.layers.Dense(7,activation='softmax')\n",
        "  ])\n",
        "\n",
        "optimizer = tf.train.RMSPropOptimizer(0.001)\n",
        "\n",
        "model6.compile(loss='sparse_categorical_crossentropy',\n",
        "                optimizer=optimizer,\n",
        "                metrics=['accuracy'])"
      ],
      "execution_count": 0,
      "outputs": []
    },
    {
      "cell_type": "code",
      "metadata": {
        "id": "8olea3DNyOBg",
        "colab_type": "code",
        "outputId": "e8d3a5a4-83ae-4076-c3ee-590647e2abb3",
        "colab": {
          "base_uri": "https://localhost:8080/",
          "height": 118
        }
      },
      "source": [
        "\n",
        "class PrintDot(keras.callbacks.Callback): # prints dot at the end of every epoch\n",
        "  def on_epoch_end(self, epoch, logs):\n",
        "    if epoch % 100 == 0: print('')\n",
        "    print('.', end='')\n",
        "\n",
        "tf.set_random_seed(1)\n",
        "\n",
        "f6_history = model6.fit(training_combined, training_output, epochs=500,\n",
        "                    validation_data= (validation_combined, validation_output), verbose=0,\n",
        "                    callbacks=[PrintDot()])"
      ],
      "execution_count": 0,
      "outputs": [
        {
          "output_type": "stream",
          "text": [
            "\n",
            "....................................................................................................\n",
            "....................................................................................................\n",
            "....................................................................................................\n",
            "....................................................................................................\n",
            "...................................................................................................."
          ],
          "name": "stdout"
        }
      ]
    },
    {
      "cell_type": "code",
      "metadata": {
        "id": "u1l_ir3FyPpC",
        "colab_type": "code",
        "outputId": "0a987a12-8150-415b-c036-906e996d6135",
        "colab": {
          "base_uri": "https://localhost:8080/",
          "height": 34
        }
      },
      "source": [
        "print(\" f6 model maximum accuracy:\",max(f6_history.history['val_acc']))"
      ],
      "execution_count": 0,
      "outputs": [
        {
          "output_type": "stream",
          "text": [
            " f6 model maximum accuracy: 0.62180513\n"
          ],
          "name": "stdout"
        }
      ]
    },
    {
      "cell_type": "code",
      "metadata": {
        "id": "Dxv8hJLVahVb",
        "colab_type": "code",
        "outputId": "202c8661-09a1-4bde-a58b-f619de55122a",
        "colab": {
          "base_uri": "https://localhost:8080/",
          "height": 610
        }
      },
      "source": [
        "import matplotlib.pyplot as plt\n",
        "\n",
        "\n",
        "def plot_history1(histories, key='acc'):\n",
        "  plt.figure(figsize=(16,10))\n",
        "  plt.subplot(2,1,1)\n",
        "  for name, history in histories:\n",
        "    val = plt.plot(history.epoch, history.history['val_'+key],\n",
        "                   '--', label=name.title()+' Val')\n",
        "    plt.plot(history.epoch, history.history[key], color=val[0].get_color(),\n",
        "             label=name.title()+' Train')\n",
        "\n",
        "  plt.xlabel('Epochs')\n",
        "  plt.ylabel(key.replace('_',' ').title())\n",
        "  plt.legend()\n",
        "\n",
        "  plt.xlim([0,max(history.epoch)])\n",
        "  plt.ylim([0,1.2])\n",
        "  \n",
        "def plot_history2(histories, key='loss'):\n",
        "  plt.subplot(2,1,2)\n",
        "  for name, history in histories:\n",
        "    val = plt.plot(history.epoch, history.history['val_'+key],\n",
        "                   '--', label=name.title()+' Val')\n",
        "    plt.plot(history.epoch, history.history[key], color=val[0].get_color(),\n",
        "             label=name.title()+' Train')\n",
        "\n",
        "  plt.xlabel('Epochs')\n",
        "  plt.ylabel(key.replace('_',' ').title())\n",
        "  plt.legend()\n",
        "\n",
        "  plt.xlim([0,max(history.epoch)])\n",
        "  plt.ylim([-2,2])\n",
        "\n",
        "\n",
        "# Plot history Multiple\n",
        "plot_history1([('Model 6', f6_history)])\n",
        "plot_history2([('Model 6', f6_history)])          "
      ],
      "execution_count": 0,
      "outputs": [
        {
          "output_type": "display_data",
          "data": {
            "image/png": "[encoded data removed]",
            "text/plain": [
              "<Figure size 1152x720 with 2 Axes>"
            ]
          },
          "metadata": {
            "tags": []
          }
        }
      ]
    },
    {
      "cell_type": "markdown",
      "metadata": {
        "id": "UO6YX7uHdgpO",
        "colab_type": "text"
      },
      "source": [
        "#Preprocessing variation"
      ]
    },
    {
      "cell_type": "code",
      "metadata": {
        "id": "gIGYtZFGdf3I",
        "colab_type": "code",
        "colab": {}
      },
      "source": [
        "#Changing preprocessing - using diferent split for Training and validation dataset \n",
        "\n",
        "tf.logging.set_verbosity(tf.logging.ERROR)\n",
        "pd.options.display.max_rows = 10\n",
        "pd.options.display.float_format = '{:.1f}'.format\n",
        "\n",
        "covtype_dataframe = pd.read_csv(\"https://archive.ics.uci.edu/ml/machine-learning-databases/covtype/covtype.data.gz\", sep=\",\",header=None,names =[\"Elevation\",\n",
        "     \"Aspect\", \"Slope\", \"Horizontal_Distance_To_Hydrology\", \"Vertical_Distance_To_Hydrology\", \"Horizontal_Distance_To_Roadways\", \"Hillshade_9am\",\n",
        "     \"Hillshade_Noon\",\"Hillshade_3pm \",\"Horizontal_Distance_To_Fire_Points\",\"Wilderness_Area1\",\"Wilderness_Area2\",\"Wilderness_Area3\",\"Wilderness_Area4\",                                                                                                                         \n",
        "    \"Soil_Type1\",\"Soil_Type2\",\"Soil_Type3\",\"Soil_Type4\", \"Soil_Type5\",\"Soil_Type6\",\"Soil_Type7\",\"Soil_Type8\",\"Soil_Type9\",\"Soil_Type10\",\"Soil_Type11\",\"Soil_Type12\",\n",
        "     \"Soil_Type13\",\"Soil_Type14\",\"Soil_Type15\",\"Soil_Type16\",\"Soil_Type17\",\"Soil_Type18\",\"Soil_Type19\",\"Soil_Type20\",\"Soil_Type21\",\"Soil_Type22\",\"Soil_Type23\",\n",
        "     \"Soil_Type24\",\"Soil_Type25\",\"Soil_Type26\",\"Soil_Type27\",\"Soil_Type28\",\"Soil_Type29\",\"Soil_Type30\",\"Soil_Type31\",\"Soil_Type32\", \"Soil_Type33\",\n",
        "     \"Soil_Type34\", \"Soil_Type35\",\"Soil_Type36\",\"Soil_Type37\",\"Soil_Type38\",\"Soil_Type39\",\n",
        "     \"Soil_Type40\",\"Cover_Type\"])\n",
        "\n",
        "covtype_dataframe = covtype_dataframe.reindex(\n",
        "    np.random.permutation(covtype_dataframe.index))\n",
        "\n",
        "def preprocess_features(covtype_dataframe):\n",
        "  \"\"\"Prepares input features from online shopper intention test data set.\n",
        "\n",
        "  Args:\n",
        "    online_shoppers_dataframe: A Pandas DataFrame expected to contain data\n",
        "      from the online shopper intention test data set.\n",
        "  Returns:\n",
        "    A DataFrame that contains the features to be used for the model. \n",
        "  \"\"\"\n",
        "  selected_features = covtype_dataframe[\n",
        "    [\"Elevation\",\n",
        "     \"Aspect\", \"Slope\", \"Horizontal_Distance_To_Hydrology\", \"Vertical_Distance_To_Hydrology\", \"Horizontal_Distance_To_Roadways\", \"Hillshade_9am\",\n",
        "     \"Hillshade_Noon\",\"Hillshade_3pm \",\"Horizontal_Distance_To_Fire_Points\",\"Wilderness_Area1\",\"Wilderness_Area2\",\"Wilderness_Area3\",\"Wilderness_Area4\",                                                                                                                         \n",
        "    \"Soil_Type1\",\"Soil_Type2\",\"Soil_Type3\",\"Soil_Type4\", \"Soil_Type5\",\"Soil_Type6\",\"Soil_Type7\",\"Soil_Type8\",\"Soil_Type9\",\"Soil_Type10\",\"Soil_Type11\",\"Soil_Type12\",\n",
        "     \"Soil_Type13\",\"Soil_Type14\",\"Soil_Type15\",\"Soil_Type16\",\"Soil_Type17\",\"Soil_Type18\",\"Soil_Type19\",\"Soil_Type20\",\"Soil_Type21\",\"Soil_Type22\",\"Soil_Type23\",\n",
        "     \"Soil_Type24\",\"Soil_Type25\",\"Soil_Type26\",\"Soil_Type27\",\"Soil_Type28\",\"Soil_Type29\",\"Soil_Type30\",\"Soil_Type31\",\"Soil_Type32\", \"Soil_Type33\",\n",
        "     \"Soil_Type34\", \"Soil_Type35\",\"Soil_Type36\",\"Soil_Type37\",\"Soil_Type38\",\"Soil_Type39\",\n",
        "     \"Soil_Type40\"]]\n",
        "    \n",
        "  processed_features = selected_features.copy()\n",
        "  \n",
        "  return processed_features\n",
        "\n",
        "def preprocess_targets(covtype_dataframe):\n",
        "  \"\"\"Prepares target features (i.e., labels) from  housing data set.\n",
        "\n",
        "  Args:\n",
        "    dataframe: A Pandas DataFrame expected to contain data\n",
        "      from the data set.\n",
        "  Returns:\n",
        "    A DataFrame that contains the target feature.\n",
        "  \"\"\"\n",
        "  output_targets = covtype_dataframe[\"Cover_Type\"]\n",
        "  return output_targets\n",
        "\n",
        "categorical_columns=[\"Wilderness_Area1\",\"Wilderness_Area2\",\"Wilderness_Area3\",\"Wilderness_Area4\",                                                                                                                         \n",
        "    \"Soil_Type1\",\"Soil_Type2\",\"Soil_Type3\",\"Soil_Type4\", \"Soil_Type5\",\"Soil_Type6\",\"Soil_Type7\",\"Soil_Type8\",\"Soil_Type9\",\"Soil_Type10\",\"Soil_Type11\",\"Soil_Type12\",\n",
        "     \"Soil_Type13\",\"Soil_Type14\",\"Soil_Type15\",\"Soil_Type16\",\"Soil_Type17\",\"Soil_Type18\",\"Soil_Type19\",\"Soil_Type20\",\"Soil_Type21\",\"Soil_Type22\",\"Soil_Type23\",\n",
        "     \"Soil_Type24\",\"Soil_Type25\",\"Soil_Type26\",\"Soil_Type27\",\"Soil_Type28\",\"Soil_Type29\",\"Soil_Type30\",\"Soil_Type31\",\"Soil_Type32\", \"Soil_Type33\",\n",
        "     \"Soil_Type34\", \"Soil_Type35\",\"Soil_Type36\",\"Soil_Type37\",\"Soil_Type38\",\"Soil_Type39\",\n",
        "     \"Soil_Type40\"]\n",
        "\n",
        "numerical_columns=[\"Elevation\",\"Aspect\",\"Slope\",\"Horizontal_Distance_To_Hydrology\",\"Vertical_Distance_To_Hydrology\",\n",
        "     \"Horizontal_Distance_To_Roadways\",\"Hillshade_9am\",\"Hillshade_Noon\",\"Hillshade_3pm \",\"Horizontal_Distance_To_Fire_Points\"]\n",
        "\n",
        "# Choose the first 406708 examples for training.\n",
        "training_examples = preprocess_features(covtype_dataframe.head(406708))\n",
        "training_targets = preprocess_targets(covtype_dataframe.head(406708))\n",
        "\n",
        "training_examples_values=training_examples[categorical_columns]\n",
        "training_numerical_values=training_examples[numerical_columns]\n",
        "\n",
        "scaler = StandardScaler().fit(training_numerical_values.values)\n",
        "scaledf = scaler.transform(training_numerical_values.values)\n",
        "training_numerical_values_examples = pd.DataFrame(scaledf, index=training_numerical_values.index, columns=training_numerical_values.columns)\n",
        "training_examples=pd.concat([training_numerical_values_examples,training_examples_values], axis=1)\n",
        "\n",
        "# Choose the last 174303 examples for validation.\n",
        "validation_examples = preprocess_features(covtype_dataframe.tail(174303))\n",
        "validation_examples_values=validation_examples[categorical_columns]\n",
        "validation_numerical_values=validation_examples[numerical_columns]\n",
        "\n",
        "scaler = StandardScaler().fit(validation_numerical_values.values)\n",
        "scaledf = scaler.transform(validation_numerical_values.values)\n",
        "validation_numerical_values_examples = pd.DataFrame(scaledf, index=validation_numerical_values.index, columns=validation_numerical_values.columns)\n",
        "validation_examples=pd.concat([validation_numerical_values_examples,validation_examples_values], axis=1)\n",
        "\n",
        "validation_targets = preprocess_targets(covtype_dataframe.tail(174303))\n"
      ],
      "execution_count": 0,
      "outputs": []
    },
    {
      "cell_type": "markdown",
      "metadata": {
        "id": "Ttd7-vkAnhES",
        "colab_type": "text"
      },
      "source": [
        "#Model 7"
      ]
    },
    {
      "cell_type": "code",
      "metadata": {
        "id": "_rUlOwW7d3H5",
        "colab_type": "code",
        "colab": {}
      },
      "source": [
        "f7_model = keras.Sequential([\n",
        "    keras.layers.Dense(16, activation=tf.nn.relu,\n",
        "                       input_shape=(training_examples.shape[1],)),\n",
        "    keras.layers.Dense(16, activation=tf.nn.relu),\n",
        "    keras.layers.Dense(16, activation=tf.nn.relu),\n",
        "    keras.layers.Dense(8,activation='softmax')\n",
        "  ])\n",
        "\n",
        "optimizer = tf.train.RMSPropOptimizer(0.001)\n",
        "\n",
        "f7_model.compile(loss='sparse_categorical_crossentropy',\n",
        "                optimizer=optimizer,\n",
        "                metrics=['accuracy'])"
      ],
      "execution_count": 0,
      "outputs": []
    },
    {
      "cell_type": "code",
      "metadata": {
        "id": "yjDVaH4Ud6s8",
        "colab_type": "code",
        "outputId": "a3c555f7-5e36-451a-afb6-cde21c2160a3",
        "colab": {
          "base_uri": "https://localhost:8080/",
          "height": 118
        }
      },
      "source": [
        "class PrintDot(keras.callbacks.Callback):\n",
        "  def on_epoch_end(self, epoch, logs):\n",
        "    if epoch % 100 == 0: print('')\n",
        "    print('.', end='')\n",
        "\n",
        "EPOCHS = 500\n",
        "tf.set_random_seed(1)\n",
        "\n",
        "# Store training stats\n",
        "f7_history = f7_model.fit(training_examples, training_targets, epochs=EPOCHS,\n",
        "                   validation_data= (validation_examples, validation_targets), verbose=0,\n",
        "                    callbacks=[PrintDot()])"
      ],
      "execution_count": 0,
      "outputs": [
        {
          "output_type": "stream",
          "text": [
            "\n",
            "....................................................................................................\n",
            "....................................................................................................\n",
            "....................................................................................................\n",
            "....................................................................................................\n",
            "...................................................................................................."
          ],
          "name": "stdout"
        }
      ]
    },
    {
      "cell_type": "code",
      "metadata": {
        "id": "WTPBOZVeG_A3",
        "colab_type": "code",
        "outputId": "08745e56-39de-4e70-fa1b-228292818f05",
        "colab": {
          "base_uri": "https://localhost:8080/",
          "height": 34
        }
      },
      "source": [
        "print(\" f7 model maximum accuracy:\",max(f7_history.history['val_acc']))"
      ],
      "execution_count": 0,
      "outputs": [
        {
          "output_type": "stream",
          "text": [
            " f7 model maximum accuracy: 0.7848287\n"
          ],
          "name": "stdout"
        }
      ]
    },
    {
      "cell_type": "code",
      "metadata": {
        "id": "ZJgSbbqwHGVB",
        "colab_type": "code",
        "outputId": "44513bd5-8484-491e-f04e-0fcbe7030f34",
        "colab": {
          "base_uri": "https://localhost:8080/",
          "height": 610
        }
      },
      "source": [
        "import matplotlib.pyplot as plt\n",
        "\n",
        "\n",
        "def plot_history1(histories, key='acc'):\n",
        "  plt.figure(figsize=(16,10))\n",
        "  plt.subplot(2,1,1)\n",
        "  for name, history in histories:\n",
        "    val = plt.plot(history.epoch, history.history['val_'+key],\n",
        "                   '--', label=name.title()+' Val')\n",
        "    plt.plot(history.epoch, history.history[key], color=val[0].get_color(),\n",
        "             label=name.title()+' Train')\n",
        "\n",
        "  plt.xlabel('Epochs')\n",
        "  plt.ylabel(key.replace('_',' ').title())\n",
        "  plt.legend()\n",
        "\n",
        "  plt.xlim([0,max(history.epoch)])\n",
        "  plt.ylim([0,1.2])\n",
        "  \n",
        "def plot_history2(histories, key='loss'):\n",
        "  plt.subplot(2,1,2)\n",
        "  for name, history in histories:\n",
        "    val = plt.plot(history.epoch, history.history['val_'+key],\n",
        "                   '--', label=name.title()+' Val')\n",
        "    plt.plot(history.epoch, history.history[key], color=val[0].get_color(),\n",
        "             label=name.title()+' Train')\n",
        "\n",
        "  plt.xlabel('Epochs')\n",
        "  plt.ylabel(key.replace('_',' ').title())\n",
        "  plt.legend()\n",
        "\n",
        "  plt.xlim([0,max(history.epoch)])\n",
        "  plt.ylim([-2,2])\n",
        "\n",
        "\n",
        "# Plot history Multiple\n",
        "plot_history1([('Model 7', f7_history)])\n",
        "plot_history2([('Model 7', f7_history)])          "
      ],
      "execution_count": 0,
      "outputs": [
        {
          "output_type": "display_data",
          "data": {
            "image/png": "[encoded data removed]",
            "text/plain": [
              "<Figure size 1152x720 with 2 Axes>"
            ]
          },
          "metadata": {
            "tags": []
          }
        }
      ]
    },
    {
      "cell_type": "markdown",
      "metadata": {
        "id": "l7XwnFJmoIdA",
        "colab_type": "text"
      },
      "source": [
        "#Model 8"
      ]
    },
    {
      "cell_type": "code",
      "metadata": {
        "id": "wbkhBNf6H95P",
        "colab_type": "code",
        "colab": {}
      },
      "source": [
        "f8_model = keras.Sequential([\n",
        "    keras.layers.Dense(16, activation=tf.nn.relu,\n",
        "                       input_shape=(training_examples.shape[1],)),\n",
        "    keras.layers.Dense(64, activation=tf.nn.relu),\n",
        "    keras.layers.Dense(64, activation=tf.nn.relu),\n",
        "    keras.layers.Dense(64, activation=tf.nn.relu),\n",
        "    keras.layers.Dense(8,activation='softmax')\n",
        "  ])\n",
        "\n",
        "optimizer = tf.train.RMSPropOptimizer(0.001)\n",
        "\n",
        "f8_model.compile(loss='sparse_categorical_crossentropy',\n",
        "                optimizer=optimizer,\n",
        "                metrics=['accuracy'])"
      ],
      "execution_count": 0,
      "outputs": []
    },
    {
      "cell_type": "code",
      "metadata": {
        "id": "dOceXQqDIGv2",
        "colab_type": "code",
        "outputId": "f76944f2-83b2-4438-ee8d-d36f68fbf1ff",
        "colab": {
          "base_uri": "https://localhost:8080/",
          "height": 50
        }
      },
      "source": [
        "class PrintDot(keras.callbacks.Callback):\n",
        "  def on_epoch_end(self, epoch, logs):\n",
        "    if epoch % 100 == 0: print('')\n",
        "    print('.', end='')\n",
        "\n",
        "EPOCHS = 50\n",
        "tf.set_random_seed(1)\n",
        "\n",
        "# Store training stats\n",
        "f8_history = f8_model.fit(training_examples, training_targets, epochs=EPOCHS,\n",
        "                   validation_data= (validation_examples, validation_targets), verbose=0,\n",
        "                    callbacks=[PrintDot()])"
      ],
      "execution_count": 0,
      "outputs": [
        {
          "output_type": "stream",
          "text": [
            "\n",
            ".................................................."
          ],
          "name": "stdout"
        }
      ]
    },
    {
      "cell_type": "code",
      "metadata": {
        "id": "GgoqAUaXNQFe",
        "colab_type": "code",
        "outputId": "bb72a2c2-de27-4c7d-87fe-34f391aa6000",
        "colab": {
          "base_uri": "https://localhost:8080/",
          "height": 34
        }
      },
      "source": [
        "print(\" f8 model maximum accuracy:\",max(f8_history.history['val_acc']))"
      ],
      "execution_count": 0,
      "outputs": [
        {
          "output_type": "stream",
          "text": [
            " f8 model maximum accuracy: 0.8020344\n"
          ],
          "name": "stdout"
        }
      ]
    },
    {
      "cell_type": "code",
      "metadata": {
        "id": "cpvVCT3hNY6l",
        "colab_type": "code",
        "outputId": "d24301f4-97eb-4bad-982e-6f86a25ae9f2",
        "colab": {
          "base_uri": "https://localhost:8080/",
          "height": 610
        }
      },
      "source": [
        "import matplotlib.pyplot as plt\n",
        "\n",
        "\n",
        "def plot_history1(histories, key='acc'):\n",
        "  plt.figure(figsize=(16,10))\n",
        "  plt.subplot(2,1,1)\n",
        "  for name, history in histories:\n",
        "    val = plt.plot(history.epoch, history.history['val_'+key],\n",
        "                   '--', label=name.title()+' Val')\n",
        "    plt.plot(history.epoch, history.history[key], color=val[0].get_color(),\n",
        "             label=name.title()+' Train')\n",
        "\n",
        "  plt.xlabel('Epochs')\n",
        "  plt.ylabel(key.replace('_',' ').title())\n",
        "  plt.legend()\n",
        "\n",
        "  plt.xlim([0,max(history.epoch)])\n",
        "  plt.ylim([0,1.2])\n",
        "  \n",
        "def plot_history2(histories, key='loss'):\n",
        "  plt.subplot(2,1,2)\n",
        "  for name, history in histories:\n",
        "    val = plt.plot(history.epoch, history.history['val_'+key],\n",
        "                   '--', label=name.title()+' Val')\n",
        "    plt.plot(history.epoch, history.history[key], color=val[0].get_color(),\n",
        "             label=name.title()+' Train')\n",
        "\n",
        "  plt.xlabel('Epochs')\n",
        "  plt.ylabel(key.replace('_',' ').title())\n",
        "  plt.legend()\n",
        "\n",
        "  plt.xlim([0,max(history.epoch)])\n",
        "  plt.ylim([-2,2])\n",
        "\n",
        "\n",
        "# Plot history Multiple\n",
        "plot_history1([('Model 8', f8_history)])\n",
        "plot_history2([('Model 8', f8_history)])          "
      ],
      "execution_count": 0,
      "outputs": [
        {
          "output_type": "display_data",
          "data": {
            "image/png": "[encoded data removed]",
            "text/plain": [
              "<Figure size 1152x720 with 2 Axes>"
            ]
          },
          "metadata": {
            "tags": []
          }
        }
      ]
    },
    {
      "cell_type": "markdown",
      "metadata": {
        "id": "w5fnM3w1tEtR",
        "colab_type": "text"
      },
      "source": [
        "##Model Comparision with accuracy\n",
        "\n",
        "Previous Submission best Model: 56.91%\n",
        "\n",
        "First_Model\t: 60.88% \n",
        "\n",
        "L1_Model: 36.93%\n",
        "\n",
        "Model2\t: 63.73%\n",
        "\n",
        "Model3\t: 62.28%\n",
        "\n",
        "Model6\t: 62.18%\n",
        "\n",
        "Model7\t: 78.48%\n",
        "\n",
        "Model8  : 80.20%\n",
        "\t\t\n",
        "\t\t\t\t\t\t\n"
      ]
    },
    {
      "cell_type": "markdown",
      "metadata": {
        "id": "_AnNj-IussMf",
        "colab_type": "text"
      },
      "source": [
        "## Analysis of all models (Model Comparison for Question 2)\n",
        "\n",
        "### Previous submission Results \n",
        "\n",
        "- From above models, we can see that, we are getting accuracy of 44.79%  with baseline model. But after building and fitting all DNN models we are getting accuracy more than baseline model for all models (first_model, l1_model).\n",
        "\n",
        "- Best model is : first_model with accuracy : 56.91% is the best model.\n",
        "\n",
        "###Results after changes made in models\n",
        "\n",
        "- From above models, we can see that, we are getting accuracy of 44.79%  with baseline model. But after building and fitting all DNN models we are getting accuracy more than baseline model for all models (first_model, l1_model, Model2, Model3, Model6, Model7, Model8).\n",
        "\n",
        "- Best model is : Model8  with accuracy : 80.20% is the best model.\n",
        "\n",
        "- Accuracy increased from 56.91 of previous submitted model to 80.20% now with all preprocessing and model changes. "
      ]
    }
  ]
}